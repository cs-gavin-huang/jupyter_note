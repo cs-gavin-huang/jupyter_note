{
 "cells": [
  {
   "cell_type": "markdown",
   "metadata": {},
   "source": [
    "# Java流程控制\n",
    "\n",
    "## 复合语句\n",
    "\n",
    "Java语言的复合语句是以整个块区为单位的语句，又称块语句。复合语句由“{”开始，“}”结束。\n",
    "\n",
    "复合语句为局部变量创建了一个作用域，该作用域为程序的一部分，在该作用域中某个变量被创建并能够被使用，如果在某个变量的作用域外使用该变量，则会发生错误。并且复合语句中可以嵌套复合语句。\n",
    "\n",
    "## 条件语句\n",
    "\n",
    "1. if条件语句\n",
    "　　\n",
    "\n",
    "使用if条件语句，可选择是否要执行紧跟在条件之后的那个语句。关键字if之后是作为条件的“布尔表达式”，如果该表达式返回true，则执行其后的语句；若为false，则不执行if后的语句。可分为简单的if条件语句、if···else语句和if···else if多分支语句。\n",
    "  \n",
    "\n",
    "```java\n",
    "int a = 100;\n",
    "if(a == 100) {\n",
    "    System.out.println(a);\n",
    "}\n",
    "```\n",
    "\n"
   ]
  },
  {
   "cell_type": "code",
   "execution_count": 1,
   "metadata": {},
   "outputs": [
    {
     "name": "stdout",
     "output_type": "stream",
     "text": [
      "100\n"
     ]
    }
   ],
   "source": [
    "int a = 100;\n",
    "if(a == 100) {\n",
    "    System.out.println(a);\n",
    "}"
   ]
  },
  {
   "cell_type": "markdown",
   "metadata": {},
   "source": [
    "2. if···else语句\n",
    "　　\n",
    "  \n",
    "if···else语句是条件语句中最常用的一种形式，它会针对某种条件有选择的作出处理。通常表现为“如果满足某种条件，就进行某种处理，否则就进行另一种处理”。\n",
    "\n",
    "\n",
    "if后的()内的表达式必须是boolean型的。如果为true，则执行if后的复合语句；如果为false，则执行else后的复合语句。\n",
    "\n"
   ]
  },
  {
   "cell_type": "code",
   "execution_count": 9,
   "metadata": {},
   "outputs": [
    {
     "name": "stdout",
     "output_type": "stream",
     "text": [
      "math has passed\n",
      "english has not passed\n"
     ]
    }
   ],
   "source": [
    "\n",
    "        int math = 80;        // 声明，数学成绩为80（及格）\n",
    "        int english = 50;    // 声明，英语成绩为50（不及格）\n",
    "        \n",
    "        if(math >= 60) {    // if判断语句判断math是否大于等于60\n",
    "            System.out.println(\"math has passed\");\n",
    "        } else {            // if条件不成立\n",
    "            System.out.println(\"math has not passed\");\n",
    "        }\n",
    "        \n",
    "        if(english >= 60) {    // if判断语句判断english是否大于等于60\n",
    "            System.out.println(\"english has passed\");\n",
    "        } else {            // if条件不成立\n",
    "            System.out.println(\"english has not passed\");\n",
    "        }\n"
   ]
  },
  {
   "cell_type": "markdown",
   "metadata": {},
   "source": [
    "3. if···else if多分支语句\n",
    "　　\n",
    "  \n",
    "if···else if多分支语句用于针对某一事件的多种情况进行处理。通常表现为“如果满足某种条件”，就进行某种处理，否则，如果满足另一种条件，则进行另一种处理。"
   ]
  },
  {
   "cell_type": "code",
   "execution_count": 8,
   "metadata": {},
   "outputs": [
    {
     "name": "stdout",
     "output_type": "stream",
     "text": [
      "x的值大于30但小于60\n"
     ]
    }
   ],
   "source": [
    "\n",
    "        int x = 40;\n",
    "        \n",
    "        if(x > 60) {\n",
    "            System.out.println(\"x的值大于60\");\n",
    "        } else if (x > 30) {\n",
    "            System.out.println(\"x的值大于30但小于60\");\n",
    "        } else if (x > 0) {\n",
    "            System.out.println(\"x的值大于0但小于30\");\n",
    "        } else {\n",
    "            System.out.println(\"x的值小于等于0\");\n",
    "        }"
   ]
  },
  {
   "cell_type": "markdown",
   "metadata": {},
   "source": [
    "4. switch多分支语句\n",
    "　\n",
    " \n",
    " switch语句是一种比较简单明了的多选一的选择，在Java语言中，可以用switch语句将动作组织起来进行多选一。语法格式如下：\n",
    " \n",
    "```java\n",
    "switch(表达式)\n",
    "{ \n",
    " case 常量值1:\n",
    "        语句块1\n",
    "        [break;]\n",
    "...\n",
    "case 常量值n:\n",
    "        语句块2\n",
    "        [break;]\n",
    "default:\n",
    "        语句块 n+1;\n",
    "        [break;]\n",
    "}\n",
    "```\n"
   ]
  },
  {
   "cell_type": "code",
   "execution_count": 11,
   "metadata": {},
   "outputs": [
    {
     "name": "stdout",
     "output_type": "stream",
     "text": [
      "请输入今天星期几："
     ]
    },
    {
     "name": "stdin",
     "output_type": "stream",
     "text": [
      " 5\n"
     ]
    },
    {
     "name": "stdout",
     "output_type": "stream",
     "text": [
      "Friday\n"
     ]
    }
   ],
   "source": [
    "        import java.util.Scanner;\n",
    "        Scanner scan = new Scanner(System.in);\n",
    "        System.out.print(\"请输入今天星期几：\");\n",
    "        int week = scan.nextInt();\n",
    "        \n",
    "        switch (week) {\n",
    "        case 1:\n",
    "            System.out.println(\"Monday\");\n",
    "            break;\n",
    "        case 2:\n",
    "            System.out.println(\"Tuesday\");\n",
    "            break;\n",
    "        case 3:\n",
    "            System.out.println(\"Wednesday\");\n",
    "            break;\n",
    "        case 4:\n",
    "            System.out.println(\"Thursday\");\n",
    "            break;\n",
    "        case 5:\n",
    "            System.out.println(\"Friday\");\n",
    "            break;\n",
    "        case 6:\n",
    "            System.out.println(\"Saturday\");\n",
    "            break;\n",
    "        case 7:\n",
    "            System.out.println(\"Sunday\");\n",
    "            break;\n",
    "        default:\n",
    "            System.out.println(\"Sorry,I don't konw\");\n",
    "            break;\n",
    "        }"
   ]
  },
  {
   "cell_type": "markdown",
   "metadata": {},
   "source": [
    "---\n",
    "## 循环语句\n",
    "\n",
    "1. while循环语句\n",
    "　　\n",
    "  \n",
    "  while循环语句的循环方式为利用一个条件来控制是否要继续反复执行这个语句。\n",
    "\n",
    "　　假设现在有1~10十个数字，我们要将它们相加求和，在学习while之前可能会直接用+运算符从1加到10，也就是1+2+3+4+5+6+7+8+9+10，但如果现在需要从1加到1万呢？10万？所以，我们要引入while循环来进行循环相加，如下：\n",
    "\n"
   ]
  },
  {
   "cell_type": "code",
   "execution_count": 12,
   "metadata": {},
   "outputs": [
    {
     "name": "stdout",
     "output_type": "stream",
     "text": [
      "55\n"
     ]
    }
   ],
   "source": [
    "\n",
    "        int x = 1;            // 定义初值\n",
    "        int sum = 0;        // 定义求和变量，用于存储相加后的结果\n",
    "        \n",
    "        while(x <= 10) {\n",
    "            sum += x;        // 循环相加，也即    sum = sum + x;\n",
    "            x++;\n",
    "        }\n",
    "        System.out.println(sum);\n",
    "   "
   ]
  },
  {
   "cell_type": "markdown",
   "metadata": {},
   "source": [
    "2. do···while循环语句\n",
    "　　\n",
    "  \n",
    "  do···while循环语句与while循环语句的区别是，while循环语句先判断条件是否成立再执行循环体，而do···while循环语句则先执行一次循环后，再判断条件是否成立。也即do···while至少执行一次。语法格式如下：\n",
    "\n"
   ]
  },
  {
   "cell_type": "code",
   "execution_count": 13,
   "metadata": {},
   "outputs": [
    {
     "name": "stdout",
     "output_type": "stream",
     "text": [
      "b == 10\n"
     ]
    }
   ],
   "source": [
    "        int a = 10;\n",
    "        int b = 10;\n",
    "        \n",
    "        // while循环语句\n",
    "        while(a == 8) {\n",
    "            System.out.println(\"a == \" + a);\n",
    "            a--;\n",
    "        }\n",
    "        \n",
    "        // do···while循环语句\n",
    "        do {\n",
    "            System.out.println(\"b == \" + b);\n",
    "            b--;\n",
    "        } while(b == 8);\n",
    " "
   ]
  },
  {
   "cell_type": "markdown",
   "metadata": {},
   "source": [
    "3. for循环语句\n",
    "　　\n",
    " \n",
    " for循环语句是Java程序设计中最有用的循环语句之一。一个for循环可以用来重复执行某条语句，知道某个条件得到满足。"
   ]
  },
  {
   "cell_type": "code",
   "execution_count": 14,
   "metadata": {},
   "outputs": [
    {
     "name": "stdout",
     "output_type": "stream",
     "text": [
      "2550\n"
     ]
    }
   ],
   "source": [
    "       int sum = 0;\n",
    "        \n",
    "        for(int i=2; i<=100; i+=2) {\n",
    "            sum += i;\n",
    "        }\n",
    "        \n",
    "        System.out.println(sum);"
   ]
  },
  {
   "cell_type": "code",
   "execution_count": 15,
   "metadata": {},
   "outputs": [
    {
     "name": "stdout",
     "output_type": "stream",
     "text": [
      "7\n",
      "8\n",
      "9\n"
     ]
    }
   ],
   "source": [
    "int array[] = {7, 8, 9};\n",
    "\n",
    "for (int arr : array) {\n",
    "     System.out.println(arr);\n",
    "}"
   ]
  },
  {
   "cell_type": "markdown",
   "metadata": {},
   "source": [
    "## 跳转语句\n",
    "\n",
    "\n",
    "1. break语句\n",
    "\n",
    "　　break语句刚刚在switch中已经见过了，是用来中止case的。实际上break语句在for、while、do···while循环语句中，用于强行退出当前循环，为什么说是当前循环呢，因为break只能跳出离它最近的那个循环的循环体，假设有两个循环嵌套使用，break用在内层循环下，则break只能跳出内层循环\n",
    "  \n",
    "2. continue语句\n",
    "\n",
    "　　continue语句只能用于for、while、do···while循环语句中，用于让程序直接跳过其后面的语句，进行下一次循环"
   ]
  },
  {
   "cell_type": "code",
   "execution_count": 17,
   "metadata": {},
   "outputs": [
    {
     "name": "stdout",
     "output_type": "stream",
     "text": [
      "1 3 5 7 9 "
     ]
    }
   ],
   "source": [
    "        int i = 0;\n",
    "        \n",
    "        while(i < 10) {\n",
    "            i++;\n",
    "            \n",
    "            if(i%2 == 0) {    // 能被2整除，是偶数\n",
    "                continue;    // 跳过当前循环\n",
    "            }\n",
    "            \n",
    "            System.out.print(i + \" \"); \n",
    "        }"
   ]
  },
  {
   "cell_type": "markdown",
   "metadata": {},
   "source": [
    "3. return语句\n",
    "\n",
    "　　return语句可以从一个方法返回，并把控制权交给调用它的语句。"
   ]
  }
 ],
 "metadata": {
  "kernelspec": {
   "display_name": "Java",
   "language": "java",
   "name": "java"
  },
  "language_info": {
   "codemirror_mode": "java",
   "file_extension": ".jshell",
   "mimetype": "text/x-java-source",
   "name": "Java",
   "pygments_lexer": "java",
   "version": "11.0.3+12-LTS"
  }
 },
 "nbformat": 4,
 "nbformat_minor": 2
}
