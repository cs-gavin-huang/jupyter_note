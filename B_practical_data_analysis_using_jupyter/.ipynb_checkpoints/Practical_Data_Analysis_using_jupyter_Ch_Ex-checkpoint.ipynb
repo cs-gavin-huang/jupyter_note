{
 "cells": [
  {
   "cell_type": "markdown",
   "id": "c51e339d",
   "metadata": {},
   "source": [
    "### Chapter02\n",
    "* hello_world\n",
    "* evolution_of_data_analysis\n",
    "* verify_python_packages"
   ]
  },
  {
   "cell_type": "code",
   "execution_count": 1,
   "id": "62c9a9e5",
   "metadata": {},
   "outputs": [
    {
     "name": "stdout",
     "output_type": "stream",
     "text": [
      "hello world\n"
     ]
    }
   ],
   "source": [
    "print(\"hello world\")"
   ]
  },
  {
   "cell_type": "code",
   "execution_count": 2,
   "id": "6b97335d",
   "metadata": {},
   "outputs": [
    {
     "ename": "UnicodeDecodeError",
     "evalue": "'gbk' codec can't decode byte 0x9d in position 2979: illegal multibyte sequence",
     "output_type": "error",
     "traceback": [
      "\u001b[1;31m---------------------------------------------------------------------------\u001b[0m",
      "\u001b[1;31mUnicodeDecodeError\u001b[0m                        Traceback (most recent call last)",
      "\u001b[1;32m<ipython-input-2-6e79fe40ebc3>\u001b[0m in \u001b[0;36m<module>\u001b[1;34m\u001b[0m\n\u001b[0;32m      1\u001b[0m \u001b[0mf\u001b[0m \u001b[1;33m=\u001b[0m \u001b[0mopen\u001b[0m\u001b[1;33m(\u001b[0m\u001b[1;34m\"../data/source/evolution_of_data_analysis.csv\"\u001b[0m\u001b[1;33m,\u001b[0m\u001b[1;34m\"r\"\u001b[0m\u001b[1;33m)\u001b[0m\u001b[1;33m\u001b[0m\u001b[1;33m\u001b[0m\u001b[0m\n\u001b[1;32m----> 2\u001b[1;33m \u001b[0mprint\u001b[0m\u001b[1;33m(\u001b[0m\u001b[0mf\u001b[0m\u001b[1;33m.\u001b[0m\u001b[0mread\u001b[0m\u001b[1;33m(\u001b[0m\u001b[1;33m)\u001b[0m\u001b[1;33m)\u001b[0m\u001b[1;33m\u001b[0m\u001b[1;33m\u001b[0m\u001b[0m\n\u001b[0m\u001b[0;32m      3\u001b[0m \u001b[0mf\u001b[0m\u001b[1;33m.\u001b[0m\u001b[0mclose\u001b[0m\u001b[1;33m(\u001b[0m\u001b[1;33m)\u001b[0m\u001b[1;33m\u001b[0m\u001b[1;33m\u001b[0m\u001b[0m\n",
      "\u001b[1;31mUnicodeDecodeError\u001b[0m: 'gbk' codec can't decode byte 0x9d in position 2979: illegal multibyte sequence"
     ]
    }
   ],
   "source": [
    "f = open(\"../data/source/evolution_of_data_analysis.csv\",\"r\")\n",
    "print(f.read())\n",
    "f.close()\n",
    "## refer: https://blog.csdn.net/lqzdreamer/article/details/76549256"
   ]
  },
  {
   "cell_type": "code",
   "execution_count": 4,
   "id": "d67d4eea",
   "metadata": {},
   "outputs": [
    {
     "name": "stdout",
     "output_type": "stream",
     "text": [
      "b'Year,Decade,Milestone Title,Milestone Event,Why Important,Reference,People Process or Technology Tag\\r\\n1945,1940s,ENIAC,First electronic general-purpose computer = ENIAC,Faster decisions using a computer and mathmatics,https://en.wikipedia.org/wiki/ENIAC,Technology\\r\\n1945,1940s,John von Neumann / array,\"John von Neumann creates a merge sort algorithm, in which the first and second halves of an array are each sorted recursively and then merged\",\"Arrays allow mathmatics, grouping and sorting of data\",https://en.wikipedia.org/wiki/John_von_Neumann,People\\r\\n1956,1950s,First Hard Disk,The first computer hard disk used,Storing data for reuse = reduces time to recreate data from scratch from programming,https://fiftiesweb.com/pop/inventions/,Technology\\r\\n1958,1950s,Modem,The modem invented,\"Communication between computers, foundation of the internet, sending / receiving data\",https://fiftiesweb.com/pop/inventions/,Technology\\r\\n1961,1960s,John Tukey / data analysis,Statistician John Tukey defined data analysis,Defined the process and procedures of collecting data for analysis without being a statistian,https://projecteuclid.org/download/pdf_1/euclid.aoms/1177704711,People\\r\\n1970,1970s,Dr. EF Codd / normalized data,\"Dr. E.F. Codd creates concept of \"\"normalizing data\"\", relational models and foundation to storing data in databases\",\"Made data independent from specific software / coding langauges and created framework for storing and retrieving data using rows (tuples), columns and tables (entities)\",https://www.seas.upenn.edu/~zives/03f/cis550/codd.pdf,People\\r\\n1972,1970s,FORTRAN supports CSV Files,FORTRAN Programing Language supports comma seperated value (csv) file formats,Programing Language can input / output data files with consistent results ,http://bitsavers.trailing-edge.com/pdf/ibm/370/fortran/GC28-6884-0_IBM_FORTRAN_Program_Products_for_OS_and_CMS_General_Information_Jul72.pdf,Technology\\r\\n1982,1980s,Mike Bloomberg / Terminal,Bloomberg Terminal Introduced,Financial Data Analysis of Bond Market to market makers without being a programmer,https://www.bloomberg.com/company/press/timeline-video-the-evolution-of-the-bloomberg-terminal/,Technology\\r\\n1983,1980s,Edward Tufty / Data Viz concepts,\"Edward Tufty writes the book \"\"The Visual Display of Quantitative Information \"\"\",Defines ways to communicate with data beyond tables and numbers,https://www.amazon.com/gp/product/096139210X/ref=dbs_a_def_rwt_hsch_vapi_taft_p1_i0,People\\r\\n1986,1980s,SQL Standardized,SQL Language Standardized across all database technologies,A common language agnostic to technology for storing vasts amounts of data in a centralized location,https://blog.ansi.org/2018/10/sql-standard-iso-iec-9075-2016-ansi-x3-135/#gref,Technology\\r\\n1987,1980s,MS Excel,Microsoft Excel,Mainstream productivity software available to anyone in business world,https://en.wikipedia.org/wiki/Microsoft_Excel,Technology\\r\\n1989,1980s,BI (Business Intelligence),The term \\xe2\\x80\\x9cBI (Business Intelligence)\\xe2\\x80\\x9d was proposed by Howard Dresner at Gartner in 1989,Data becomes as Asset = used for analysis to make decisions from,https://www.flydata.com/blog/a-brief-history-of-data-analysis/,Process\\r\\n1990,1990s,OLAP,On-Line Analytical Processing (OLAP) and Business Intelligence become industry standards,\"Data Volumes Increase, specialized software and skills required to answer questons from data\",http://dssresources.com/history/dsshistory.html,Technology\\r\\n1990,1990s,Guido van Rossum / Python ,Guido van Rossum creates the Python programming language,Programming language that has versility beyond specific usage like back end processing or front end User Interface (UI),,People\\r\\n1991,1990s,Linus Torvalds / Linux OS,Finnish engineer Linus Torvalds introduces the Linux operating system. Price: $0.,Open Source software and Programming Languages become available to anyone without costs ,https://www.bloomberg.com/news/articles/2014-12-04/open-source-linux-operating-system-introduced-in-1991,People\\r\\n1993,1990s,Bill Inmon / Data Warehouse,\"Bill Inmon writes \"\"Building the data warehouse\"\"\",Organize data in a way to gain insights and answer business questions,https://archive.org/details/buildingdataware00inmo_1,People\\r\\n1993,1990s,QlikView,QlikView software created,\"Distruptive Technology that removes barriers from answering questions using data but creating software that does everything in one place = ingest data, etl, data visual\",,Technology\\r\\n1996,1990s,Ralph Kimball / Kimball Methodology,\"Ralph Kimball writes \"\"The data warehouse toolkit\"\"\",Enables growth of the data analyst and business intelligence professional = understand requirements to ground swell data marts,https://archive.org/details/datawarehousetoo00kimb_0,People\\r\\n1996,1990s,XML Created,XML Created,\"The goals of XML emphasize simplicity, generality, and usability across the Internet.\",https://en.wikipedia.org/wiki/XML,Technology\\r\\n1997,1990s,Data Mining defined,The journal Data Mining and Knowledge Discovery is launched; the reversal of the order of the two terms in its title reflecting the ascendance of \\xe2\\x80\\x9cdata mining\\xe2\\x80\\x9d as the more popular way to designate \\xe2\\x80\\x9cextracting information from large databases.\\xe2\\x80\\x9d,Evolving Data Mining as a skill moving away from specific technologies needed to answer questions without specfic expertise in 1 technology,https://www.forbes.com/sites/gilpress/2013/05/28/a-very-short-history-of-data-science/#3df637a055cf,Process\\r\\n1998,1990s,Carlo Strozzi / NoSQL,Carlo Strozzi introduced the concept of NoSQL and non-relational databases,\"Removed defined structures required by Relational Databases to store values by key-value and catalist for Big Data solutions like Google BigTable, Amzaon DynamoDB and Graph Databases (social networks)\",https://en.wikipedia.org/wiki/NoSQL,People\\r\\n2000,2000s,REST / APIs,REST / APIs,\"Data Democracy = If i can use a browser, I can access data without the need to batch process \",https://en.wikipedia.org/wiki/Representational_state_transfer,Technology\\r\\n2001,2000s,Natural Language (NLP) Toolkit,Natural Language Toolkit,statistical natural language processing (NLP) for English written in the Python programming language,https://en.wikipedia.org/wiki/Natural_Language_Toolkit,Technology\\r\\n2001,2000s,JSON,JSON was first presented to the world at the JSON.org website in 2001,\"Evolved from XML, data agnostic to the programing langauge that created it\",http://www.ecma-international.org/publications/files/ECMA-ST/ECMA-404.pdf,Technology\\r\\n2004,2000s,Stephen Few ,Stephen Few publishes Information Dashboard Design: The Effective Visual Communication of Data,Evolves data viz as a skill and effective means of communication.  New careers in Business Intelligence and Data Visualization,http://www.perceptualedge.com/articles/ie/the_right_graph.pdf,People\\r\\n2004,2000s,Facebook,facebook,The Social Network influences people and data are communicating,https://en.wikipedia.org/wiki/Facebook,Technology\\r\\n2005,2000s,Google Analytics,Google Analytics,A web search engine and metadata (data about the data) become a product that businesses will pay to use,https://en.wikipedia.org/wiki/Google_Analytics,Technology\\r\\n2006,2000s,Apache Hadoop,Apache Hadoop Big Data Storage Created,The Data Lake offers alternatives to data marts and traditional data warehouses.,https://en.wikipedia.org/wiki/Apache_Hadoop,Technology\\r\\n2006,2000s,NumPy,NumPy Library Introduced,Python language library grows beyond programing to data analysis tool,,Technology\\r\\n2006,2000s,Twitter,Twitter,Unstructured Big Data offers opportunities for analysis of data beyond traditional limits.  The need for Data Scientists becomes a career aspiration,https://en.wikipedia.org/wiki/Twitter,Technology\\r\\n2006,2000s,AWS,Amazon Web Services (AWS) S3 storage and introduced its Elastic Compute Cloud (EC2),Cloud computing = boundries to physical computers is removed.   Information technology (IT) segments into specialized fields,https://en.wikipedia.org/wiki/Amazon_S3,Technology\\r\\n2007,2000s,Github,GitHub ,\"Version control and sharing of code between teams, departments and industries become easier and fasters\",https://github.com/about,Technology\\r\\n2007,2000s,iPhone,Apple iPhone,Mobile Analytics becomes an industry,https://en.wikipedia.org/wiki/IPhone,Technology\\r\\n2008,2000s,Pandas,pandas is a software library created,Python evolves to the tool for open source data analysis,https://en.wikipedia.org/wiki/Pandas_(software),Technology\\r\\n2009,2000s,Uber,Uber Founded,Using Data and Technology to disrupt the transportation industry,https://en.wikipedia.org/wiki/Uber,Technology\\r\\n2010,2010s,Kaggle.com,Kaggle.com created,Data Democracy in action = reward ANYONE who can solve problems using data and algorthems,https://en.wikipedia.org/wiki/Kaggle,Technology\\r\\n2011,2010s,Naomi Robbins,Naomi Robbins founds the Data Visualization New York Meetup,Pioneering Woman Engineer and Data Visualization expert who runs the largest offline community of data visualization professionals in the world,https://www.meetup.com/DataVisualization/messages/boards/thread/13521591,People\\r\\n2012,2010s,Raspberry PI,Creation of the Raspberry PI,Making the IOT (Internet of Things) mass scale of data with a device that costs only $25,https://www.zdnet.com/article/technology-that-changed-us-the-2010s/,Technology\\r\\n2012,2010s,Alberto Cairo ,\"Alberto Cairo publishes the \"\"The Functional Art: An introduction to information graphics and visualization (Voices That Matter)\"\"\",Charts become an artform and careers like data journalism become mainstream,https://www.amazon.com/gp/product/B0091SXDOM/ref=dbs_a_def_rwt_hsch_vapi_taft_p1_i2,People\\r\\n2015,2010s,Jupyter Notebook,Project Jupyter,Open Source code and libraries becomes an all in one tool that\\'s easier to use ,https://jupyter.org/,Technology\\r\\n2015,2010s,Alexa,Amazon Alexa Ecosystem,Making voice to data mainstream and allowing API integration by other vendors,https://www.zdnet.com/article/technology-that-changed-us-the-2010s/,Technology\\r\\n2018,2010s,The Data Literacy Project,The Data Literacy Project launches,\"Building a data driven culture where anyone can read, work with, analze and argue with data\",https://www.businesswire.com/news/home/20181010005559/en/Global-Organizations-Launch-Data-Literacy-Project-Combat,Process\\r\\n'\n"
     ]
    }
   ],
   "source": [
    "## use \"rb\" instead of \"r\"\n",
    "f = open(\"../data/source/evolution_of_data_analysis.csv\",\"rb\")\n",
    "print(f.read())\n",
    "f.close()"
   ]
  },
  {
   "cell_type": "code",
   "execution_count": 9,
   "id": "128e39d4",
   "metadata": {},
   "outputs": [
    {
     "name": "stdout",
     "output_type": "stream",
     "text": [
      "1.2.4\n",
      "1.20.1\n",
      "0.24.1\n",
      "3.3.4\n",
      "1.6.2\n"
     ]
    }
   ],
   "source": [
    "import pandas as pd\n",
    "print(pd.__version__)\n",
    "import numpy as np\n",
    "print(np.__version__)\n",
    "import sklearn as sk\n",
    "print(sk.__version__)\n",
    "import matplotlib as mp\n",
    "print(mp.__version__)\n",
    "import scipy as sc\n",
    "print(sc.__version__)"
   ]
  },
  {
   "cell_type": "markdown",
   "id": "839ecfa9",
   "metadata": {},
   "source": [
    "## chapter03\n",
    "* highest_daily_closing_stock_price_option_1\n",
    "* highest_daily_closing_stock_price_option_2\n",
    "* highest_daily_closing_stock_price_option_3\n",
    "* my_first_array"
   ]
  },
  {
   "cell_type": "code",
   "execution_count": null,
   "id": "fa3f91d8",
   "metadata": {},
   "outputs": [],
   "source": [
    "import numpy as np\n",
    "input "
   ]
  }
 ],
 "metadata": {
  "kernelspec": {
   "display_name": "Python 3",
   "language": "python",
   "name": "python3"
  },
  "language_info": {
   "codemirror_mode": {
    "name": "ipython",
    "version": 3
   },
   "file_extension": ".py",
   "mimetype": "text/x-python",
   "name": "python",
   "nbconvert_exporter": "python",
   "pygments_lexer": "ipython3",
   "version": "3.8.8"
  }
 },
 "nbformat": 4,
 "nbformat_minor": 5
}
